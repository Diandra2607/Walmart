{
  "nbformat": 4,
  "nbformat_minor": 0,
  "metadata": {
    "colab": {
      "provenance": [],
      "authorship_tag": "ABX9TyP6qHIMVGmg7UmYFMolO/qr",
      "include_colab_link": true
    },
    "kernelspec": {
      "name": "python3",
      "display_name": "Python 3"
    },
    "language_info": {
      "name": "python"
    }
  },
  "cells": [
    {
      "cell_type": "markdown",
      "metadata": {
        "id": "view-in-github",
        "colab_type": "text"
      },
      "source": [
        "<a href=\"https://colab.research.google.com/github/Diandra2607/Walmart/blob/main/Walmart.ipynb\" target=\"_parent\"><img src=\"https://colab.research.google.com/assets/colab-badge.svg\" alt=\"Open In Colab\"/></a>"
      ]
    },
    {
      "cell_type": "code",
      "execution_count": 1,
      "metadata": {
        "id": "mkiPEAJzaSbj"
      },
      "outputs": [],
      "source": [
        "import pandas as pd\n",
        "import statsmodels.api as sm\n",
        "from statsmodels.formula.api import ols"
      ]
    },
    {
      "cell_type": "code",
      "source": [
        "df = pd.read_csv('/content/walmart.csv')"
      ],
      "metadata": {
        "id": "YoaXXV8Ubaez"
      },
      "execution_count": 2,
      "outputs": []
    },
    {
      "cell_type": "code",
      "source": [
        "model = ols('Purchase ~ C(Age) + C(Gender)', data=df).fit()\n",
        "anova_table = sm.stats.anova_lm(model, typ=2)\n",
        "print(anova_table)"
      ],
      "metadata": {
        "colab": {
          "base_uri": "https://localhost:8080/"
        },
        "id": "XXsa9bW5by7J",
        "outputId": "26d053e2-2cab-45f2-f11d-1ef1a9a15e22"
      },
      "execution_count": 5,
      "outputs": [
        {
          "output_type": "stream",
          "name": "stdout",
          "text": [
            "                 sum_sq        df            F        PR(>F)\n",
            "C(Age)     5.669573e+09       6.0    37.602647  6.748009e-46\n",
            "C(Gender)  5.007079e+10       1.0  1992.524794  0.000000e+00\n",
            "Residual   1.382263e+13  550060.0          NaN           NaN\n"
          ]
        }
      ]
    }
  ]
}